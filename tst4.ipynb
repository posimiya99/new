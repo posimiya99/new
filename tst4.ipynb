{
 "cells": [
  {
   "cell_type": "code",
   "execution_count": 1,
   "metadata": {},
   "outputs": [
    {
     "name": "stderr",
     "output_type": "stream",
     "text": [
      "Using TensorFlow backend.\n"
     ]
    }
   ],
   "source": [
    "from keras.models import Sequential\n",
    "from keras.layers import Activation, Dense, Dropout\n",
    "from keras.utils.np_utils import to_categorical\n",
    "from keras.optimizers import Adagrad\n",
    "from keras.optimizers import Adam\n",
    "import numpy as np\n",
    "from PIL import Image\n",
    "import os\n",
    "from keras.layers.convolutional import Conv2D, MaxPooling2D\n",
    "from keras.layers.core import Activation, Flatten, Dense\n",
    "\n",
    "# 学習用のデータを作る.\n",
    "image_list = []\n",
    "label_list = []\n",
    "\n",
    "# ./data/train 以下のorange,appleディレクトリ以下の画像を読み込む。\n",
    "for dir in os.listdir(\"data/train\"):\n",
    "    if dir == \".DS_Store\":\n",
    "        continue\n",
    "\n",
    "    dir1 = \"data/train/\" + dir \n",
    "    label = 0\n",
    "\n",
    "    if dir == \"A\":    # doraはラベル0\n",
    "        label = 0\n",
    "    elif dir == \"B\": # pikaはラベル1\n",
    "        label = 1\n",
    "\n",
    "    elif dir == \"C\": # shinはラベル2\n",
    "        label = 2\n",
    "\n",
    "\n",
    "    elif dir == \"D\": # pikaはラベル1\n",
    "        label = 3\n",
    "\n",
    "    elif dir == \"E\": # shinはラベル2\n",
    "        label = 4\n",
    "        \n",
    "    elif dir == \"F\": # shinはラベル2\n",
    "        label = 5\n",
    "\n",
    "\n",
    "    elif dir == \"G\": # pikaはラベル1\n",
    "        label = 6\n",
    "\n",
    "    elif dir == \"H\": # shinはラベル2\n",
    "        label = 7\n",
    "        \n",
    "    elif dir == \"I\": # pikaはラベル1\n",
    "        label = 8\n",
    "\n",
    "    elif dir == \"J\": # shinはラベル2\n",
    "        label = 9\n",
    "\n",
    "\n",
    "    elif dir == \"K\": # pikaはラベル1\n",
    "        label = 10\n",
    "\n",
    "\n",
    "    elif dir == \"L\": # shinはラベル2\n",
    "        label = 11\n",
    "        \n",
    "    elif dir == \"M\": # shinはラベル2\n",
    "        label = 12\n",
    "\n",
    "\n",
    "    elif dir == \"N\": # pikaはラベル1\n",
    "        label = 13\n",
    "\n",
    "    elif dir == \"O\": # shinはラベル2\n",
    "        label = 14        \n",
    "    \n",
    "    elif dir == \"P\": # pikaはラベル1\n",
    "        label = 15\n",
    "\n",
    "    elif dir == \"Q\": # shinはラベル2\n",
    "        label = 16\n",
    "\n",
    "\n",
    "    elif dir == \"R\": # pikaはラベル1\n",
    "        label = 17\n",
    "\n",
    "    elif dir == \"S\": # shinはラベル2\n",
    "        label = 18\n",
    "        \n",
    "    elif dir == \"T\": # shinはラベル2\n",
    "        label = 19\n",
    "\n",
    "\n",
    "    elif dir == \"U\": # pikaはラベル1\n",
    "        label = 20\n",
    "\n",
    "    elif dir == \"V\": # shinはラベル2\n",
    "        label = 21       \n",
    "        \n",
    "    elif dir == \"W\": # shinはラベル2\n",
    "        label = 22\n",
    "        \n",
    "    elif dir == \"X\": # shinはラベル2\n",
    "        label = 23\n",
    "\n",
    "\n",
    "    elif dir == \"Y\": # pikaはラベル1\n",
    "        label = 24\n",
    "\n",
    "    elif dir == \"Z\": # shinはラベル2\n",
    "        label = 25       \n",
    "        \n",
    "                \n",
    "        \n",
    "                \n",
    "        \n",
    "        \n",
    "    for file in os.listdir(dir1):\n",
    "        if file != \".DS_Store\":\n",
    "            # 配列label_listに正解ラベルを追加(どら:0 ぴか:1しん2)\n",
    "            label_list.append(label)\n",
    "            filepath = dir1 + \"/\" + file\n",
    "            # 画像を28x28pixelに変換し、1要素が[R,G,B]3要素を含む配列の28x28の２次元配列として読み込む。\n",
    "            # [R,G,B]はそれぞれが0-255の配列。\n",
    "            image = np.array(Image.open(filepath).resize((28, 28)))\n",
    "            image.shape\n",
    "        \n",
    "        \n",
    "            # 出来上がった配列をimage_listに追加。\n",
    "            image_list.append(image / 255.)\n",
    "\n",
    "# kerasに渡すためにnumpy配列に変換。\n",
    "image_list = np.array(image_list)\n",
    "\n",
    "# ラベルの配列を1と0からなるラベル配列に変更\n",
    "# 0 -> [1,0], 1 -> [0,1] という感じ。\n",
    "Y = to_categorical(label_list)\n",
    "\n",
    "# モデルを生成してニューラルネットを構築"
   ]
  },
  {
   "cell_type": "code",
   "execution_count": 2,
   "metadata": {},
   "outputs": [],
   "source": [
    "from keras.models import model_from_json\n",
    "model = model_from_json(open('lenet_AE.json').read())"
   ]
  },
  {
   "cell_type": "code",
   "execution_count": 3,
   "metadata": {},
   "outputs": [
    {
     "name": "stdout",
     "output_type": "stream",
     "text": [
      "_________________________________________________________________\n",
      "Layer (type)                 Output Shape              Param #   \n",
      "=================================================================\n",
      "conv2d_1 (Conv2D)            (None, 28, 28, 20)        1520      \n",
      "_________________________________________________________________\n",
      "activation_1 (Activation)    (None, 28, 28, 20)        0         \n",
      "_________________________________________________________________\n",
      "max_pooling2d_1 (MaxPooling2 (None, 14, 14, 20)        0         \n",
      "_________________________________________________________________\n",
      "conv2d_2 (Conv2D)            (None, 14, 14, 50)        25050     \n",
      "_________________________________________________________________\n",
      "activation_2 (Activation)    (None, 14, 14, 50)        0         \n",
      "_________________________________________________________________\n",
      "max_pooling2d_2 (MaxPooling2 (None, 7, 7, 50)          0         \n",
      "_________________________________________________________________\n",
      "flatten_1 (Flatten)          (None, 2450)              0         \n",
      "_________________________________________________________________\n",
      "dense_1 (Dense)              (None, 500)               1225500   \n",
      "_________________________________________________________________\n",
      "activation_3 (Activation)    (None, 500)               0         \n",
      "_________________________________________________________________\n",
      "dense_2 (Dense)              (None, 26)                13026     \n",
      "_________________________________________________________________\n",
      "activation_4 (Activation)    (None, 26)                0         \n",
      "=================================================================\n",
      "Total params: 1,265,096\n",
      "Trainable params: 1,265,096\n",
      "Non-trainable params: 0\n",
      "_________________________________________________________________\n"
     ]
    }
   ],
   "source": [
    "model.summary()"
   ]
  },
  {
   "cell_type": "code",
   "execution_count": 4,
   "metadata": {},
   "outputs": [],
   "source": [
    "# オプティマイザにAdamを使用\n",
    "opt = Adam(lr=0.001)\n",
    "# モデルをコンパイル\n",
    "model.compile(loss=\"categorical_crossentropy\", optimizer=opt, metrics=[\"accuracy\"])\n",
    "\n",
    "model.load_weights('lenet_AE_weights.h5')"
   ]
  },
  {
   "cell_type": "code",
   "execution_count": 5,
   "metadata": {},
   "outputs": [],
   "source": [
    "class_names = np.array([\"A\",\"B\",\"C\",\"D\",\"E\",\"F\",\"G\",\"H\",\"I\",\"J\",\"K\",\"L\",\"M\",\"N\",\"O\",\"P\",\"Q\",\"R\",\"S\",\"T\",\"U\",\"V\",\"W\",\"X\",\"Y\",\"Z\",])"
   ]
  },
  {
   "cell_type": "code",
   "execution_count": 6,
   "metadata": {},
   "outputs": [
    {
     "name": "stdout",
     "output_type": "stream",
     "text": [
      "(1, 28, 28, 3)\n"
     ]
    }
   ],
   "source": [
    "import cv2\n",
    "\n",
    "img = cv2.imread('data/test/A/A0.png')  # 画像を読み込む。\n",
    "img = cv2.cvtColor(img, cv2.COLOR_BGR2RGB)  # BGR -> RGB\n",
    "\n",
    "def predict_single_img(img):\n",
    "    x = np.expand_dims(img, axis=0)  # バッチの次元を追加する\n",
    "    print(x.shape)\n",
    "    \n",
    "predict_single_img(img)"
   ]
  },
  {
   "cell_type": "code",
   "execution_count": 7,
   "metadata": {},
   "outputs": [],
   "source": [
    "import cv2\n",
    "import matplotlib.pyplot as plt\n",
    "import numpy as np\n",
    "import tensorflow as tf"
   ]
  },
  {
   "cell_type": "code",
   "execution_count": 8,
   "metadata": {},
   "outputs": [
    {
     "name": "stdout",
     "output_type": "stream",
     "text": [
      "A: 100.00%\n",
      "Y: 0.00%\n",
      "B: 0.00%\n",
      "\n"
     ]
    },
    {
     "data": {
      "image/png": "[encoded data removed]",
      "text/plain": [
       "<Figure size 432x288 with 1 Axes>"
      ]
     },
     "metadata": {
      "needs_background": "light"
     },
     "output_type": "display_data"
    }
   ],
   "source": [
    "def predict_single_img(img):\n",
    "    x = np.expand_dims(img, axis=0)  # バッチの次元を追加する。\n",
    "\n",
    "    # 推論する。\n",
    "    scores = model.predict(x)[0]\n",
    "    top3_classes = scores.argsort()[-3:][::-1]\n",
    "\n",
    "    # 推論結果を表示する。\n",
    "    for name, score in zip(class_names[top3_classes], scores[top3_classes]):\n",
    "        print('{}: {:.2%}'.format(name, score))\n",
    "    print()\n",
    "\n",
    "img = cv2.imread('data/test/A/A0.png')  # 画像を読み込む。\n",
    "img = cv2.cvtColor(img, cv2.COLOR_BGR2RGB)  # BGR -> RGB\n",
    "img = cv2.resize(img, (28, 28), interpolation=cv2.INTER_CUBIC) # リサイズする。\n",
    "\n",
    "# 推論する。\n",
    "predict_single_img(img)\n",
    "\n",
    "# 画像を描画する。\n",
    "plt.axis('off')\n",
    "plt.imshow(img)\n",
    "plt.show()"
   ]
  },
  {
   "cell_type": "code",
   "execution_count": 13,
   "metadata": {},
   "outputs": [],
   "source": [
    "graph = tf.get_default_graph()"
   ]
  },
  {
   "cell_type": "code",
   "execution_count": 18,
   "metadata": {},
   "outputs": [],
   "source": [
    "model.graph = tf.Graph()"
   ]
  },
  {
   "cell_type": "code",
   "execution_count": 19,
   "metadata": {},
   "outputs": [
    {
     "data": {
      "text/plain": [
       "<tensorflow.python.summary.writer.writer.FileWriter at 0x17dd351a400>"
      ]
     },
     "execution_count": 19,
     "metadata": {},
     "output_type": "execute_result"
    }
   ],
   "source": [
    "tf.summary.FileWriter('./bb', model.graph)"
   ]
  }
 ],
 "metadata": {
  "kernelspec": {
   "display_name": "Python 3",
   "language": "python",
   "name": "python3"
  },
  "language_info": {
   "codemirror_mode": {
    "name": "ipython",
    "version": 3
   },
   "file_extension": ".py",
   "mimetype": "text/x-python",
   "name": "python",
   "nbconvert_exporter": "python",
   "pygments_lexer": "ipython3",
   "version": "3.6.6"
  }
 },
 "nbformat": 4,
 "nbformat_minor": 2
}
